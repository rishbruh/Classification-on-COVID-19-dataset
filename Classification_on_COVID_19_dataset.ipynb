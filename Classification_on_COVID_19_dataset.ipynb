{
  "nbformat": 4,
  "nbformat_minor": 0,
  "metadata": {
    "colab": {
      "name": "Classification on COVID-19 dataset",
      "provenance": [],
      "collapsed_sections": []
    },
    "kernelspec": {
      "name": "python3",
      "display_name": "Python 3"
    },
    "language_info": {
      "name": "python"
    }
  },
  "cells": [
    {
      "cell_type": "code",
      "metadata": {
        "id": "0bvfbsn3ilhf"
      },
      "source": [
        "import pandas as pd\n",
        "import numpy as np\n",
        "from numpy import arange\n",
        "from numpy import isnan\n",
        "from matplotlib import pyplot as plt\n",
        "from sklearn.impute import SimpleImputer\n",
        "import math\n",
        "import seaborn as sns\n",
        "from sklearn import preprocessing\n",
        "from sklearn import metrics\n",
        "from sklearn.metrics import accuracy_score, confusion_matrix, classification_report, recall_score, f1_score , precision_score , roc_auc_score ,roc_curve\n",
        "from sklearn.preprocessing import StandardScaler, LabelEncoder\n",
        "from sklearn.model_selection import train_test_split, cross_val_score\n",
        "from sklearn.tree import DecisionTreeClassifier\n",
        "from sklearn.model_selection import cross_val_score\n",
        "\n"
      ],
      "execution_count": null,
      "outputs": []
    },
    {
      "cell_type": "code",
      "metadata": {
        "colab": {
          "resources": {
            "http://localhost:8080/nbextensions/google.colab/files.js": {
              "data": "Ly8gQ29weXJpZ2h0IDIwMTcgR29vZ2xlIExMQwovLwovLyBMaWNlbnNlZCB1bmRlciB0aGUgQXBhY2hlIExpY2Vuc2UsIFZlcnNpb24gMi4wICh0aGUgIkxpY2Vuc2UiKTsKLy8geW91IG1heSBub3QgdXNlIHRoaXMgZmlsZSBleGNlcHQgaW4gY29tcGxpYW5jZSB3aXRoIHRoZSBMaWNlbnNlLgovLyBZb3UgbWF5IG9idGFpbiBhIGNvcHkgb2YgdGhlIExpY2Vuc2UgYXQKLy8KLy8gICAgICBodHRwOi8vd3d3LmFwYWNoZS5vcmcvbGljZW5zZXMvTElDRU5TRS0yLjAKLy8KLy8gVW5sZXNzIHJlcXVpcmVkIGJ5IGFwcGxpY2FibGUgbGF3IG9yIGFncmVlZCB0byBpbiB3cml0aW5nLCBzb2Z0d2FyZQovLyBkaXN0cmlidXRlZCB1bmRlciB0aGUgTGljZW5zZSBpcyBkaXN0cmlidXRlZCBvbiBhbiAiQVMgSVMiIEJBU0lTLAovLyBXSVRIT1VUIFdBUlJBTlRJRVMgT1IgQ09ORElUSU9OUyBPRiBBTlkgS0lORCwgZWl0aGVyIGV4cHJlc3Mgb3IgaW1wbGllZC4KLy8gU2VlIHRoZSBMaWNlbnNlIGZvciB0aGUgc3BlY2lmaWMgbGFuZ3VhZ2UgZ292ZXJuaW5nIHBlcm1pc3Npb25zIGFuZAovLyBsaW1pdGF0aW9ucyB1bmRlciB0aGUgTGljZW5zZS4KCi8qKgogKiBAZmlsZW92ZXJ2aWV3IEhlbHBlcnMgZm9yIGdvb2dsZS5jb2xhYiBQeXRob24gbW9kdWxlLgogKi8KKGZ1bmN0aW9uKHNjb3BlKSB7CmZ1bmN0aW9uIHNwYW4odGV4dCwgc3R5bGVBdHRyaWJ1dGVzID0ge30pIHsKICBjb25zdCBlbGVtZW50ID0gZG9jdW1lbnQuY3JlYXRlRWxlbWVudCgnc3BhbicpOwogIGVsZW1lbnQudGV4dENvbnRlbnQgPSB0ZXh0OwogIGZvciAoY29uc3Qga2V5IG9mIE9iamVjdC5rZXlzKHN0eWxlQXR0cmlidXRlcykpIHsKICAgIGVsZW1lbnQuc3R5bGVba2V5XSA9IHN0eWxlQXR0cmlidXRlc1trZXldOwogIH0KICByZXR1cm4gZWxlbWVudDsKfQoKLy8gTWF4IG51bWJlciBvZiBieXRlcyB3aGljaCB3aWxsIGJlIHVwbG9hZGVkIGF0IGEgdGltZS4KY29uc3QgTUFYX1BBWUxPQURfU0laRSA9IDEwMCAqIDEwMjQ7CgpmdW5jdGlvbiBfdXBsb2FkRmlsZXMoaW5wdXRJZCwgb3V0cHV0SWQpIHsKICBjb25zdCBzdGVwcyA9IHVwbG9hZEZpbGVzU3RlcChpbnB1dElkLCBvdXRwdXRJZCk7CiAgY29uc3Qgb3V0cHV0RWxlbWVudCA9IGRvY3VtZW50LmdldEVsZW1lbnRCeUlkKG91dHB1dElkKTsKICAvLyBDYWNoZSBzdGVwcyBvbiB0aGUgb3V0cHV0RWxlbWVudCB0byBtYWtlIGl0IGF2YWlsYWJsZSBmb3IgdGhlIG5leHQgY2FsbAogIC8vIHRvIHVwbG9hZEZpbGVzQ29udGludWUgZnJvbSBQeXRob24uCiAgb3V0cHV0RWxlbWVudC5zdGVwcyA9IHN0ZXBzOwoKICByZXR1cm4gX3VwbG9hZEZpbGVzQ29udGludWUob3V0cHV0SWQpOwp9CgovLyBUaGlzIGlzIHJvdWdobHkgYW4gYXN5bmMgZ2VuZXJhdG9yIChub3Qgc3VwcG9ydGVkIGluIHRoZSBicm93c2VyIHlldCksCi8vIHdoZXJlIHRoZXJlIGFyZSBtdWx0aXBsZSBhc3luY2hyb25vdXMgc3RlcHMgYW5kIHRoZSBQeXRob24gc2lkZSBpcyBnb2luZwovLyB0byBwb2xsIGZvciBjb21wbGV0aW9uIG9mIGVhY2ggc3RlcC4KLy8gVGhpcyB1c2VzIGEgUHJvbWlzZSB0byBibG9jayB0aGUgcHl0aG9uIHNpZGUgb24gY29tcGxldGlvbiBvZiBlYWNoIHN0ZXAsCi8vIHRoZW4gcGFzc2VzIHRoZSByZXN1bHQgb2YgdGhlIHByZXZpb3VzIHN0ZXAgYXMgdGhlIGlucHV0IHRvIHRoZSBuZXh0IHN0ZXAuCmZ1bmN0aW9uIF91cGxvYWRGaWxlc0NvbnRpbnVlKG91dHB1dElkKSB7CiAgY29uc3Qgb3V0cHV0RWxlbWVudCA9IGRvY3VtZW50LmdldEVsZW1lbnRCeUlkKG91dHB1dElkKTsKICBjb25zdCBzdGVwcyA9IG91dHB1dEVsZW1lbnQuc3RlcHM7CgogIGNvbnN0IG5leHQgPSBzdGVwcy5uZXh0KG91dHB1dEVsZW1lbnQubGFzdFByb21pc2VWYWx1ZSk7CiAgcmV0dXJuIFByb21pc2UucmVzb2x2ZShuZXh0LnZhbHVlLnByb21pc2UpLnRoZW4oKHZhbHVlKSA9PiB7CiAgICAvLyBDYWNoZSB0aGUgbGFzdCBwcm9taXNlIHZhbHVlIHRvIG1ha2UgaXQgYXZhaWxhYmxlIHRvIHRoZSBuZXh0CiAgICAvLyBzdGVwIG9mIHRoZSBnZW5lcmF0b3IuCiAgICBvdXRwdXRFbGVtZW50Lmxhc3RQcm9taXNlVmFsdWUgPSB2YWx1ZTsKICAgIHJldHVybiBuZXh0LnZhbHVlLnJlc3BvbnNlOwogIH0pOwp9CgovKioKICogR2VuZXJhdG9yIGZ1bmN0aW9uIHdoaWNoIGlzIGNhbGxlZCBiZXR3ZWVuIGVhY2ggYXN5bmMgc3RlcCBvZiB0aGUgdXBsb2FkCiAqIHByb2Nlc3MuCiAqIEBwYXJhbSB7c3RyaW5nfSBpbnB1dElkIEVsZW1lbnQgSUQgb2YgdGhlIGlucHV0IGZpbGUgcGlja2VyIGVsZW1lbnQuCiAqIEBwYXJhbSB7c3RyaW5nfSBvdXRwdXRJZCBFbGVtZW50IElEIG9mIHRoZSBvdXRwdXQgZGlzcGxheS4KICogQHJldHVybiB7IUl0ZXJhYmxlPCFPYmplY3Q+fSBJdGVyYWJsZSBvZiBuZXh0IHN0ZXBzLgogKi8KZnVuY3Rpb24qIHVwbG9hZEZpbGVzU3RlcChpbnB1dElkLCBvdXRwdXRJZCkgewogIGNvbnN0IGlucHV0RWxlbWVudCA9IGRvY3VtZW50LmdldEVsZW1lbnRCeUlkKGlucHV0SWQpOwogIGlucHV0RWxlbWVudC5kaXNhYmxlZCA9IGZhbHNlOwoKICBjb25zdCBvdXRwdXRFbGVtZW50ID0gZG9jdW1lbnQuZ2V0RWxlbWVudEJ5SWQob3V0cHV0SWQpOwogIG91dHB1dEVsZW1lbnQuaW5uZXJIVE1MID0gJyc7CgogIGNvbnN0IHBpY2tlZFByb21pc2UgPSBuZXcgUHJvbWlzZSgocmVzb2x2ZSkgPT4gewogICAgaW5wdXRFbGVtZW50LmFkZEV2ZW50TGlzdGVuZXIoJ2NoYW5nZScsIChlKSA9PiB7CiAgICAgIHJlc29sdmUoZS50YXJnZXQuZmlsZXMpOwogICAgfSk7CiAgfSk7CgogIGNvbnN0IGNhbmNlbCA9IGRvY3VtZW50LmNyZWF0ZUVsZW1lbnQoJ2J1dHRvbicpOwogIGlucHV0RWxlbWVudC5wYXJlbnRFbGVtZW50LmFwcGVuZENoaWxkKGNhbmNlbCk7CiAgY2FuY2VsLnRleHRDb250ZW50ID0gJ0NhbmNlbCB1cGxvYWQnOwogIGNvbnN0IGNhbmNlbFByb21pc2UgPSBuZXcgUHJvbWlzZSgocmVzb2x2ZSkgPT4gewogICAgY2FuY2VsLm9uY2xpY2sgPSAoKSA9PiB7CiAgICAgIHJlc29sdmUobnVsbCk7CiAgICB9OwogIH0pOwoKICAvLyBXYWl0IGZvciB0aGUgdXNlciB0byBwaWNrIHRoZSBmaWxlcy4KICBjb25zdCBmaWxlcyA9IHlpZWxkIHsKICAgIHByb21pc2U6IFByb21pc2UucmFjZShbcGlja2VkUHJvbWlzZSwgY2FuY2VsUHJvbWlzZV0pLAogICAgcmVzcG9uc2U6IHsKICAgICAgYWN0aW9uOiAnc3RhcnRpbmcnLAogICAgfQogIH07CgogIGNhbmNlbC5yZW1vdmUoKTsKCiAgLy8gRGlzYWJsZSB0aGUgaW5wdXQgZWxlbWVudCBzaW5jZSBmdXJ0aGVyIHBpY2tzIGFyZSBub3QgYWxsb3dlZC4KICBpbnB1dEVsZW1lbnQuZGlzYWJsZWQgPSB0cnVlOwoKICBpZiAoIWZpbGVzKSB7CiAgICByZXR1cm4gewogICAgICByZXNwb25zZTogewogICAgICAgIGFjdGlvbjogJ2NvbXBsZXRlJywKICAgICAgfQogICAgfTsKICB9CgogIGZvciAoY29uc3QgZmlsZSBvZiBmaWxlcykgewogICAgY29uc3QgbGkgPSBkb2N1bWVudC5jcmVhdGVFbGVtZW50KCdsaScpOwogICAgbGkuYXBwZW5kKHNwYW4oZmlsZS5uYW1lLCB7Zm9udFdlaWdodDogJ2JvbGQnfSkpOwogICAgbGkuYXBwZW5kKHNwYW4oCiAgICAgICAgYCgke2ZpbGUudHlwZSB8fCAnbi9hJ30pIC0gJHtmaWxlLnNpemV9IGJ5dGVzLCBgICsKICAgICAgICBgbGFzdCBtb2RpZmllZDogJHsKICAgICAgICAgICAgZmlsZS5sYXN0TW9kaWZpZWREYXRlID8gZmlsZS5sYXN0TW9kaWZpZWREYXRlLnRvTG9jYWxlRGF0ZVN0cmluZygpIDoKICAgICAgICAgICAgICAgICAgICAgICAgICAgICAgICAgICAgJ24vYSd9IC0gYCkpOwogICAgY29uc3QgcGVyY2VudCA9IHNwYW4oJzAlIGRvbmUnKTsKICAgIGxpLmFwcGVuZENoaWxkKHBlcmNlbnQpOwoKICAgIG91dHB1dEVsZW1lbnQuYXBwZW5kQ2hpbGQobGkpOwoKICAgIGNvbnN0IGZpbGVEYXRhUHJvbWlzZSA9IG5ldyBQcm9taXNlKChyZXNvbHZlKSA9PiB7CiAgICAgIGNvbnN0IHJlYWRlciA9IG5ldyBGaWxlUmVhZGVyKCk7CiAgICAgIHJlYWRlci5vbmxvYWQgPSAoZSkgPT4gewogICAgICAgIHJlc29sdmUoZS50YXJnZXQucmVzdWx0KTsKICAgICAgfTsKICAgICAgcmVhZGVyLnJlYWRBc0FycmF5QnVmZmVyKGZpbGUpOwogICAgfSk7CiAgICAvLyBXYWl0IGZvciB0aGUgZGF0YSB0byBiZSByZWFkeS4KICAgIGxldCBmaWxlRGF0YSA9IHlpZWxkIHsKICAgICAgcHJvbWlzZTogZmlsZURhdGFQcm9taXNlLAogICAgICByZXNwb25zZTogewogICAgICAgIGFjdGlvbjogJ2NvbnRpbnVlJywKICAgICAgfQogICAgfTsKCiAgICAvLyBVc2UgYSBjaHVua2VkIHNlbmRpbmcgdG8gYXZvaWQgbWVzc2FnZSBzaXplIGxpbWl0cy4gU2VlIGIvNjIxMTU2NjAuCiAgICBsZXQgcG9zaXRpb24gPSAwOwogICAgZG8gewogICAgICBjb25zdCBsZW5ndGggPSBNYXRoLm1pbihmaWxlRGF0YS5ieXRlTGVuZ3RoIC0gcG9zaXRpb24sIE1BWF9QQVlMT0FEX1NJWkUpOwogICAgICBjb25zdCBjaHVuayA9IG5ldyBVaW50OEFycmF5KGZpbGVEYXRhLCBwb3NpdGlvbiwgbGVuZ3RoKTsKICAgICAgcG9zaXRpb24gKz0gbGVuZ3RoOwoKICAgICAgY29uc3QgYmFzZTY0ID0gYnRvYShTdHJpbmcuZnJvbUNoYXJDb2RlLmFwcGx5KG51bGwsIGNodW5rKSk7CiAgICAgIHlpZWxkIHsKICAgICAgICByZXNwb25zZTogewogICAgICAgICAgYWN0aW9uOiAnYXBwZW5kJywKICAgICAgICAgIGZpbGU6IGZpbGUubmFtZSwKICAgICAgICAgIGRhdGE6IGJhc2U2NCwKICAgICAgICB9LAogICAgICB9OwoKICAgICAgbGV0IHBlcmNlbnREb25lID0gZmlsZURhdGEuYnl0ZUxlbmd0aCA9PT0gMCA/CiAgICAgICAgICAxMDAgOgogICAgICAgICAgTWF0aC5yb3VuZCgocG9zaXRpb24gLyBmaWxlRGF0YS5ieXRlTGVuZ3RoKSAqIDEwMCk7CiAgICAgIHBlcmNlbnQudGV4dENvbnRlbnQgPSBgJHtwZXJjZW50RG9uZX0lIGRvbmVgOwoKICAgIH0gd2hpbGUgKHBvc2l0aW9uIDwgZmlsZURhdGEuYnl0ZUxlbmd0aCk7CiAgfQoKICAvLyBBbGwgZG9uZS4KICB5aWVsZCB7CiAgICByZXNwb25zZTogewogICAgICBhY3Rpb246ICdjb21wbGV0ZScsCiAgICB9CiAgfTsKfQoKc2NvcGUuZ29vZ2xlID0gc2NvcGUuZ29vZ2xlIHx8IHt9OwpzY29wZS5nb29nbGUuY29sYWIgPSBzY29wZS5nb29nbGUuY29sYWIgfHwge307CnNjb3BlLmdvb2dsZS5jb2xhYi5fZmlsZXMgPSB7CiAgX3VwbG9hZEZpbGVzLAogIF91cGxvYWRGaWxlc0NvbnRpbnVlLAp9Owp9KShzZWxmKTsK",
              "ok": true,
              "headers": [
                [
                  "content-type",
                  "application/javascript"
                ]
              ],
              "status": 200,
              "status_text": ""
            }
          },
          "base_uri": "https://localhost:8080/",
          "height": 73
        },
        "id": "iKhCmehqi7jO",
        "outputId": "0ce15ca6-1200-4f3f-bb98-ee18feff3db5"
      },
      "source": [
        "from google.colab import files\n",
        "uploaded = files.upload()"
      ],
      "execution_count": null,
      "outputs": [
        {
          "output_type": "display_data",
          "data": {
            "text/html": [
              "\n",
              "     <input type=\"file\" id=\"files-fe3a1e5a-5d99-4cca-830a-a7cf89512d4c\" name=\"files[]\" multiple disabled\n",
              "        style=\"border:none\" />\n",
              "     <output id=\"result-fe3a1e5a-5d99-4cca-830a-a7cf89512d4c\">\n",
              "      Upload widget is only available when the cell has been executed in the\n",
              "      current browser session. Please rerun this cell to enable.\n",
              "      </output>\n",
              "      <script src=\"/nbextensions/google.colab/files.js\"></script> "
            ],
            "text/plain": [
              "<IPython.core.display.HTML object>"
            ]
          },
          "metadata": {
            "tags": []
          }
        },
        {
          "output_type": "stream",
          "text": [
            "Saving dkmacovid_train.csv to dkmacovid_train.csv\n"
          ],
          "name": "stdout"
        }
      ]
    },
    {
      "cell_type": "markdown",
      "metadata": {
        "id": "0SCKA0fdEO6D"
      },
      "source": [
        "# **CM1**"
      ]
    },
    {
      "cell_type": "code",
      "metadata": {
        "colab": {
          "base_uri": "https://localhost:8080/",
          "height": 295
        },
        "id": "hrLc4WqMkW-T",
        "outputId": "2540c099-3108-4307-87d8-3bdcc3c80993"
      },
      "source": [
        "#loading the data\n",
        "df_covid= pd.read_csv(\"dkmacovid_train.csv\")\n",
        "#describing the data\n",
        "df_covid.describe()"
      ],
      "execution_count": null,
      "outputs": [
        {
          "output_type": "execute_result",
          "data": {
            "text/html": [
              "<div>\n",
              "<style scoped>\n",
              "    .dataframe tbody tr th:only-of-type {\n",
              "        vertical-align: middle;\n",
              "    }\n",
              "\n",
              "    .dataframe tbody tr th {\n",
              "        vertical-align: top;\n",
              "    }\n",
              "\n",
              "    .dataframe thead th {\n",
              "        text-align: right;\n",
              "    }\n",
              "</style>\n",
              "<table border=\"1\" class=\"dataframe\">\n",
              "  <thead>\n",
              "    <tr style=\"text-align: right;\">\n",
              "      <th></th>\n",
              "      <th>Day</th>\n",
              "      <th>State ID</th>\n",
              "      <th>Lat</th>\n",
              "      <th>Long_</th>\n",
              "      <th>Active</th>\n",
              "      <th>Incident_Rate</th>\n",
              "      <th>Total_Test_Results</th>\n",
              "      <th>Case_Fatality_Ratio</th>\n",
              "      <th>Testing_Rate</th>\n",
              "      <th>Density Rank 2020 Census</th>\n",
              "      <th>SexRatio</th>\n",
              "    </tr>\n",
              "  </thead>\n",
              "  <tbody>\n",
              "    <tr>\n",
              "      <th>count</th>\n",
              "      <td>1380.000000</td>\n",
              "      <td>1380.000000</td>\n",
              "      <td>1380.000000</td>\n",
              "      <td>1380.000000</td>\n",
              "      <td>1.380000e+03</td>\n",
              "      <td>1380.000000</td>\n",
              "      <td>1.380000e+03</td>\n",
              "      <td>1380.000000</td>\n",
              "      <td>1380.000000</td>\n",
              "      <td>1380.000000</td>\n",
              "      <td>1380.000000</td>\n",
              "    </tr>\n",
              "    <tr>\n",
              "      <th>mean</th>\n",
              "      <td>16.500000</td>\n",
              "      <td>25.239130</td>\n",
              "      <td>39.470717</td>\n",
              "      <td>-92.879928</td>\n",
              "      <td>2.610390e+05</td>\n",
              "      <td>7203.192905</td>\n",
              "      <td>5.271097e+06</td>\n",
              "      <td>1.631757</td>\n",
              "      <td>91763.237514</td>\n",
              "      <td>27.173913</td>\n",
              "      <td>97.760870</td>\n",
              "    </tr>\n",
              "    <tr>\n",
              "      <th>std</th>\n",
              "      <td>8.658579</td>\n",
              "      <td>14.513405</td>\n",
              "      <td>6.070494</td>\n",
              "      <td>19.632514</td>\n",
              "      <td>4.914059e+05</td>\n",
              "      <td>2305.025102</td>\n",
              "      <td>6.991478e+06</td>\n",
              "      <td>0.656702</td>\n",
              "      <td>40858.185997</td>\n",
              "      <td>15.378197</td>\n",
              "      <td>3.219219</td>\n",
              "    </tr>\n",
              "    <tr>\n",
              "      <th>min</th>\n",
              "      <td>2.000000</td>\n",
              "      <td>1.000000</td>\n",
              "      <td>21.094300</td>\n",
              "      <td>-157.498300</td>\n",
              "      <td>9.550000e+02</td>\n",
              "      <td>1232.233261</td>\n",
              "      <td>3.739460e+05</td>\n",
              "      <td>0.439598</td>\n",
              "      <td>30524.071590</td>\n",
              "      <td>1.000000</td>\n",
              "      <td>94.000000</td>\n",
              "    </tr>\n",
              "    <tr>\n",
              "      <th>25%</th>\n",
              "      <td>9.000000</td>\n",
              "      <td>12.000000</td>\n",
              "      <td>35.630100</td>\n",
              "      <td>-105.311100</td>\n",
              "      <td>2.731600e+04</td>\n",
              "      <td>6042.134459</td>\n",
              "      <td>1.310515e+06</td>\n",
              "      <td>1.246993</td>\n",
              "      <td>67457.197525</td>\n",
              "      <td>13.000000</td>\n",
              "      <td>95.000000</td>\n",
              "    </tr>\n",
              "    <tr>\n",
              "      <th>50%</th>\n",
              "      <td>16.500000</td>\n",
              "      <td>25.500000</td>\n",
              "      <td>39.583950</td>\n",
              "      <td>-88.259400</td>\n",
              "      <td>1.005915e+05</td>\n",
              "      <td>7453.675956</td>\n",
              "      <td>2.919566e+06</td>\n",
              "      <td>1.499993</td>\n",
              "      <td>85438.613770</td>\n",
              "      <td>28.500000</td>\n",
              "      <td>97.000000</td>\n",
              "    </tr>\n",
              "    <tr>\n",
              "      <th>75%</th>\n",
              "      <td>24.000000</td>\n",
              "      <td>37.000000</td>\n",
              "      <td>43.326600</td>\n",
              "      <td>-77.209800</td>\n",
              "      <td>2.592418e+05</td>\n",
              "      <td>8621.924085</td>\n",
              "      <td>6.093790e+06</td>\n",
              "      <td>1.817013</td>\n",
              "      <td>104509.453475</td>\n",
              "      <td>41.000000</td>\n",
              "      <td>99.000000</td>\n",
              "    </tr>\n",
              "    <tr>\n",
              "      <th>max</th>\n",
              "      <td>31.000000</td>\n",
              "      <td>51.000000</td>\n",
              "      <td>61.370700</td>\n",
              "      <td>-69.381900</td>\n",
              "      <td>3.283336e+06</td>\n",
              "      <td>12811.162350</td>\n",
              "      <td>4.227902e+07</td>\n",
              "      <td>3.928767</td>\n",
              "      <td>235733.711200</td>\n",
              "      <td>52.000000</td>\n",
              "      <td>109.000000</td>\n",
              "    </tr>\n",
              "  </tbody>\n",
              "</table>\n",
              "</div>"
            ],
            "text/plain": [
              "               Day     State ID  ...  Density Rank 2020 Census     SexRatio\n",
              "count  1380.000000  1380.000000  ...               1380.000000  1380.000000\n",
              "mean     16.500000    25.239130  ...                 27.173913    97.760870\n",
              "std       8.658579    14.513405  ...                 15.378197     3.219219\n",
              "min       2.000000     1.000000  ...                  1.000000    94.000000\n",
              "25%       9.000000    12.000000  ...                 13.000000    95.000000\n",
              "50%      16.500000    25.500000  ...                 28.500000    97.000000\n",
              "75%      24.000000    37.000000  ...                 41.000000    99.000000\n",
              "max      31.000000    51.000000  ...                 52.000000   109.000000\n",
              "\n",
              "[8 rows x 11 columns]"
            ]
          },
          "metadata": {
            "tags": []
          },
          "execution_count": 48
        }
      ]
    },
    {
      "cell_type": "code",
      "metadata": {
        "colab": {
          "base_uri": "https://localhost:8080/"
        },
        "id": "6pOPxbActlUs",
        "outputId": "e3c9e8d0-24a5-45f3-9d03-9a8f5e882c3c"
      },
      "source": [
        "df_covid.info()"
      ],
      "execution_count": null,
      "outputs": [
        {
          "output_type": "stream",
          "text": [
            "<class 'pandas.core.frame.DataFrame'>\n",
            "RangeIndex: 1380 entries, 0 to 1379\n",
            "Data columns (total 17 columns):\n",
            " #   Column                           Non-Null Count  Dtype  \n",
            "---  ------                           --------------  -----  \n",
            " 0   Day                              1380 non-null   int64  \n",
            " 1   State ID                         1380 non-null   int64  \n",
            " 2   State                            1380 non-null   object \n",
            " 3   Lat                              1380 non-null   float64\n",
            " 4   Long_                            1380 non-null   float64\n",
            " 5   Active                           1380 non-null   int64  \n",
            " 6   Incident_Rate                    1380 non-null   float64\n",
            " 7   Total_Test_Results               1380 non-null   int64  \n",
            " 8   Case_Fatality_Ratio              1380 non-null   float64\n",
            " 9   Testing_Rate                     1380 non-null   float64\n",
            " 10  Resident Population 2020 Census  1380 non-null   object \n",
            " 11  Population Density 2020 Census   1380 non-null   object \n",
            " 12  Density Rank 2020 Census         1380 non-null   int64  \n",
            " 13  SexRatio                         1380 non-null   int64  \n",
            " 14  Confirmed                        1380 non-null   bool   \n",
            " 15  Deaths                           1380 non-null   bool   \n",
            " 16  Recovered                        1380 non-null   bool   \n",
            "dtypes: bool(3), float64(5), int64(6), object(3)\n",
            "memory usage: 155.1+ KB\n"
          ],
          "name": "stdout"
        }
      ]
    },
    {
      "cell_type": "code",
      "metadata": {
        "colab": {
          "base_uri": "https://localhost:8080/"
        },
        "id": "VJ0au7qyuGzZ",
        "outputId": "ba8186d1-0608-4eb6-8e8e-dc5421d6a845"
      },
      "source": [
        "# rows that contain duplicate value\n",
        "dup_covid = df_covid.duplicated()\n",
        "print(dup_covid.any())\n",
        "\n",
        "# Finding missing values in the data sets\n",
        "print(df_covid.isnull().sum())"
      ],
      "execution_count": null,
      "outputs": [
        {
          "output_type": "stream",
          "text": [
            "False\n",
            "Day                                0\n",
            "State ID                           0\n",
            "State                              0\n",
            "Lat                                0\n",
            "Long_                              0\n",
            "Active                             0\n",
            "Incident_Rate                      0\n",
            "Total_Test_Results                 0\n",
            "Case_Fatality_Ratio                0\n",
            "Testing_Rate                       0\n",
            "Resident Population 2020 Census    0\n",
            "Population Density 2020 Census     0\n",
            "Density Rank 2020 Census           0\n",
            "SexRatio                           0\n",
            "Confirmed                          0\n",
            "Deaths                             0\n",
            "Recovered                          0\n",
            "dtype: int64\n"
          ],
          "name": "stdout"
        }
      ]
    },
    {
      "cell_type": "code",
      "metadata": {
        "id": "h4LlbE9xlfsk"
      },
      "source": [
        "#sorting rows by State ID and Day\n",
        "df_covid_sorted = df_covid.sort_values(by=[\"State ID\",\"Day\"])"
      ],
      "execution_count": null,
      "outputs": []
    },
    {
      "cell_type": "code",
      "metadata": {
        "id": "OByXWFlQrcO9"
      },
      "source": [
        "#encoding the labels into binary values\n",
        "df_covid_sorted[['Confirmed', 'Deaths', 'Recovered']] = df_covid_sorted[['Confirmed', 'Deaths', 'Recovered']].astype(int)"
      ],
      "execution_count": null,
      "outputs": []
    },
    {
      "cell_type": "code",
      "metadata": {
        "id": "ipTo0RF9uFXG"
      },
      "source": [
        "#rounding off the values to 2 decimal places for better understanding of our data\n",
        "df_covid_sorted = df_covid_sorted.round(2)"
      ],
      "execution_count": null,
      "outputs": []
    },
    {
      "cell_type": "code",
      "metadata": {
        "colab": {
          "base_uri": "https://localhost:8080/",
          "height": 274
        },
        "id": "Hsz9Snvd7QMi",
        "outputId": "1a4d04ed-c7fd-4e0a-b9f2-b5d1ed63a3c0"
      },
      "source": [
        "df_covid_sorted.head(5)"
      ],
      "execution_count": null,
      "outputs": [
        {
          "output_type": "execute_result",
          "data": {
            "text/html": [
              "<div>\n",
              "<style scoped>\n",
              "    .dataframe tbody tr th:only-of-type {\n",
              "        vertical-align: middle;\n",
              "    }\n",
              "\n",
              "    .dataframe tbody tr th {\n",
              "        vertical-align: top;\n",
              "    }\n",
              "\n",
              "    .dataframe thead th {\n",
              "        text-align: right;\n",
              "    }\n",
              "</style>\n",
              "<table border=\"1\" class=\"dataframe\">\n",
              "  <thead>\n",
              "    <tr style=\"text-align: right;\">\n",
              "      <th></th>\n",
              "      <th>Day</th>\n",
              "      <th>State ID</th>\n",
              "      <th>State</th>\n",
              "      <th>Lat</th>\n",
              "      <th>Long_</th>\n",
              "      <th>Active</th>\n",
              "      <th>Incident_Rate</th>\n",
              "      <th>Total_Test_Results</th>\n",
              "      <th>Case_Fatality_Ratio</th>\n",
              "      <th>Testing_Rate</th>\n",
              "      <th>Resident Population 2020 Census</th>\n",
              "      <th>Population Density 2020 Census</th>\n",
              "      <th>Density Rank 2020 Census</th>\n",
              "      <th>SexRatio</th>\n",
              "      <th>Confirmed</th>\n",
              "      <th>Deaths</th>\n",
              "      <th>Recovered</th>\n",
              "    </tr>\n",
              "  </thead>\n",
              "  <tbody>\n",
              "    <tr>\n",
              "      <th>0</th>\n",
              "      <td>2</td>\n",
              "      <td>1</td>\n",
              "      <td>Alabama</td>\n",
              "      <td>32.32</td>\n",
              "      <td>-86.9</td>\n",
              "      <td>162449</td>\n",
              "      <td>7535.06</td>\n",
              "      <td>1891468</td>\n",
              "      <td>1.32</td>\n",
              "      <td>38576.31</td>\n",
              "      <td>5,024,279</td>\n",
              "      <td>99.2</td>\n",
              "      <td>29</td>\n",
              "      <td>94</td>\n",
              "      <td>1</td>\n",
              "      <td>0</td>\n",
              "      <td>0</td>\n",
              "    </tr>\n",
              "    <tr>\n",
              "      <th>46</th>\n",
              "      <td>3</td>\n",
              "      <td>1</td>\n",
              "      <td>Alabama</td>\n",
              "      <td>32.32</td>\n",
              "      <td>-86.9</td>\n",
              "      <td>164924</td>\n",
              "      <td>7585.56</td>\n",
              "      <td>1900070</td>\n",
              "      <td>1.31</td>\n",
              "      <td>38751.75</td>\n",
              "      <td>5,024,279</td>\n",
              "      <td>99.2</td>\n",
              "      <td>29</td>\n",
              "      <td>94</td>\n",
              "      <td>1</td>\n",
              "      <td>1</td>\n",
              "      <td>0</td>\n",
              "    </tr>\n",
              "    <tr>\n",
              "      <th>92</th>\n",
              "      <td>4</td>\n",
              "      <td>1</td>\n",
              "      <td>Alabama</td>\n",
              "      <td>32.32</td>\n",
              "      <td>-86.9</td>\n",
              "      <td>167080</td>\n",
              "      <td>7629.63</td>\n",
              "      <td>1903388</td>\n",
              "      <td>1.30</td>\n",
              "      <td>38819.42</td>\n",
              "      <td>5,024,279</td>\n",
              "      <td>99.2</td>\n",
              "      <td>29</td>\n",
              "      <td>94</td>\n",
              "      <td>1</td>\n",
              "      <td>1</td>\n",
              "      <td>0</td>\n",
              "    </tr>\n",
              "    <tr>\n",
              "      <th>138</th>\n",
              "      <td>5</td>\n",
              "      <td>1</td>\n",
              "      <td>Alabama</td>\n",
              "      <td>32.32</td>\n",
              "      <td>-86.9</td>\n",
              "      <td>172570</td>\n",
              "      <td>7741.76</td>\n",
              "      <td>1910881</td>\n",
              "      <td>1.29</td>\n",
              "      <td>38972.24</td>\n",
              "      <td>5,024,279</td>\n",
              "      <td>99.2</td>\n",
              "      <td>29</td>\n",
              "      <td>94</td>\n",
              "      <td>1</td>\n",
              "      <td>1</td>\n",
              "      <td>0</td>\n",
              "    </tr>\n",
              "    <tr>\n",
              "      <th>184</th>\n",
              "      <td>6</td>\n",
              "      <td>1</td>\n",
              "      <td>Alabama</td>\n",
              "      <td>32.32</td>\n",
              "      <td>-86.9</td>\n",
              "      <td>167506</td>\n",
              "      <td>7835.40</td>\n",
              "      <td>1921210</td>\n",
              "      <td>1.30</td>\n",
              "      <td>39182.90</td>\n",
              "      <td>5,024,279</td>\n",
              "      <td>99.2</td>\n",
              "      <td>29</td>\n",
              "      <td>94</td>\n",
              "      <td>1</td>\n",
              "      <td>1</td>\n",
              "      <td>1</td>\n",
              "    </tr>\n",
              "  </tbody>\n",
              "</table>\n",
              "</div>"
            ],
            "text/plain": [
              "     Day  State ID    State    Lat  ...  SexRatio  Confirmed  Deaths  Recovered\n",
              "0      2         1  Alabama  32.32  ...        94          1       0          0\n",
              "46     3         1  Alabama  32.32  ...        94          1       1          0\n",
              "92     4         1  Alabama  32.32  ...        94          1       1          0\n",
              "138    5         1  Alabama  32.32  ...        94          1       1          0\n",
              "184    6         1  Alabama  32.32  ...        94          1       1          1\n",
              "\n",
              "[5 rows x 17 columns]"
            ]
          },
          "metadata": {
            "tags": []
          },
          "execution_count": 54
        }
      ]
    },
    {
      "cell_type": "code",
      "metadata": {
        "id": "JP_FL3ck2ggG"
      },
      "source": [
        "#converting the string type variables into int and float \n",
        "df_covid_sorted['Resident Population 2020 Census']=df_covid_sorted['Resident Population 2020 Census'].str.replace(',','')\n",
        "df_covid_sorted['Resident Population 2020 Census'] = df_covid_sorted['Resident Population 2020 Census'].astype(int)\n",
        "\n",
        "df_covid_sorted['Population Density 2020 Census']=df_covid_sorted['Population Density 2020 Census'].str.replace(',','')\n",
        "df_covid_sorted['Population Density 2020 Census'] = df_covid_sorted['Population Density 2020 Census'].astype(float)"
      ],
      "execution_count": null,
      "outputs": []
    },
    {
      "cell_type": "code",
      "metadata": {
        "colab": {
          "base_uri": "https://localhost:8080/",
          "height": 274
        },
        "id": "tvh1C8r7_CT4",
        "outputId": "44a5ecc4-76cc-4545-dca0-cfee9ae11d07"
      },
      "source": [
        "df_covid_sorted.head()"
      ],
      "execution_count": null,
      "outputs": [
        {
          "output_type": "execute_result",
          "data": {
            "text/html": [
              "<div>\n",
              "<style scoped>\n",
              "    .dataframe tbody tr th:only-of-type {\n",
              "        vertical-align: middle;\n",
              "    }\n",
              "\n",
              "    .dataframe tbody tr th {\n",
              "        vertical-align: top;\n",
              "    }\n",
              "\n",
              "    .dataframe thead th {\n",
              "        text-align: right;\n",
              "    }\n",
              "</style>\n",
              "<table border=\"1\" class=\"dataframe\">\n",
              "  <thead>\n",
              "    <tr style=\"text-align: right;\">\n",
              "      <th></th>\n",
              "      <th>Day</th>\n",
              "      <th>State ID</th>\n",
              "      <th>State</th>\n",
              "      <th>Lat</th>\n",
              "      <th>Long_</th>\n",
              "      <th>Active</th>\n",
              "      <th>Incident_Rate</th>\n",
              "      <th>Total_Test_Results</th>\n",
              "      <th>Case_Fatality_Ratio</th>\n",
              "      <th>Testing_Rate</th>\n",
              "      <th>Resident Population 2020 Census</th>\n",
              "      <th>Population Density 2020 Census</th>\n",
              "      <th>Density Rank 2020 Census</th>\n",
              "      <th>SexRatio</th>\n",
              "      <th>Confirmed</th>\n",
              "      <th>Deaths</th>\n",
              "      <th>Recovered</th>\n",
              "    </tr>\n",
              "  </thead>\n",
              "  <tbody>\n",
              "    <tr>\n",
              "      <th>0</th>\n",
              "      <td>2</td>\n",
              "      <td>1</td>\n",
              "      <td>Alabama</td>\n",
              "      <td>32.32</td>\n",
              "      <td>-86.9</td>\n",
              "      <td>162449</td>\n",
              "      <td>7535.06</td>\n",
              "      <td>1891468</td>\n",
              "      <td>1.32</td>\n",
              "      <td>38576.31</td>\n",
              "      <td>5024279</td>\n",
              "      <td>99.2</td>\n",
              "      <td>29</td>\n",
              "      <td>94</td>\n",
              "      <td>1</td>\n",
              "      <td>0</td>\n",
              "      <td>0</td>\n",
              "    </tr>\n",
              "    <tr>\n",
              "      <th>46</th>\n",
              "      <td>3</td>\n",
              "      <td>1</td>\n",
              "      <td>Alabama</td>\n",
              "      <td>32.32</td>\n",
              "      <td>-86.9</td>\n",
              "      <td>164924</td>\n",
              "      <td>7585.56</td>\n",
              "      <td>1900070</td>\n",
              "      <td>1.31</td>\n",
              "      <td>38751.75</td>\n",
              "      <td>5024279</td>\n",
              "      <td>99.2</td>\n",
              "      <td>29</td>\n",
              "      <td>94</td>\n",
              "      <td>1</td>\n",
              "      <td>1</td>\n",
              "      <td>0</td>\n",
              "    </tr>\n",
              "    <tr>\n",
              "      <th>92</th>\n",
              "      <td>4</td>\n",
              "      <td>1</td>\n",
              "      <td>Alabama</td>\n",
              "      <td>32.32</td>\n",
              "      <td>-86.9</td>\n",
              "      <td>167080</td>\n",
              "      <td>7629.63</td>\n",
              "      <td>1903388</td>\n",
              "      <td>1.30</td>\n",
              "      <td>38819.42</td>\n",
              "      <td>5024279</td>\n",
              "      <td>99.2</td>\n",
              "      <td>29</td>\n",
              "      <td>94</td>\n",
              "      <td>1</td>\n",
              "      <td>1</td>\n",
              "      <td>0</td>\n",
              "    </tr>\n",
              "    <tr>\n",
              "      <th>138</th>\n",
              "      <td>5</td>\n",
              "      <td>1</td>\n",
              "      <td>Alabama</td>\n",
              "      <td>32.32</td>\n",
              "      <td>-86.9</td>\n",
              "      <td>172570</td>\n",
              "      <td>7741.76</td>\n",
              "      <td>1910881</td>\n",
              "      <td>1.29</td>\n",
              "      <td>38972.24</td>\n",
              "      <td>5024279</td>\n",
              "      <td>99.2</td>\n",
              "      <td>29</td>\n",
              "      <td>94</td>\n",
              "      <td>1</td>\n",
              "      <td>1</td>\n",
              "      <td>0</td>\n",
              "    </tr>\n",
              "    <tr>\n",
              "      <th>184</th>\n",
              "      <td>6</td>\n",
              "      <td>1</td>\n",
              "      <td>Alabama</td>\n",
              "      <td>32.32</td>\n",
              "      <td>-86.9</td>\n",
              "      <td>167506</td>\n",
              "      <td>7835.40</td>\n",
              "      <td>1921210</td>\n",
              "      <td>1.30</td>\n",
              "      <td>39182.90</td>\n",
              "      <td>5024279</td>\n",
              "      <td>99.2</td>\n",
              "      <td>29</td>\n",
              "      <td>94</td>\n",
              "      <td>1</td>\n",
              "      <td>1</td>\n",
              "      <td>1</td>\n",
              "    </tr>\n",
              "  </tbody>\n",
              "</table>\n",
              "</div>"
            ],
            "text/plain": [
              "     Day  State ID    State    Lat  ...  SexRatio  Confirmed  Deaths  Recovered\n",
              "0      2         1  Alabama  32.32  ...        94          1       0          0\n",
              "46     3         1  Alabama  32.32  ...        94          1       1          0\n",
              "92     4         1  Alabama  32.32  ...        94          1       1          0\n",
              "138    5         1  Alabama  32.32  ...        94          1       1          0\n",
              "184    6         1  Alabama  32.32  ...        94          1       1          1\n",
              "\n",
              "[5 rows x 17 columns]"
            ]
          },
          "metadata": {
            "tags": []
          },
          "execution_count": 56
        }
      ]
    },
    {
      "cell_type": "code",
      "metadata": {
        "colab": {
          "base_uri": "https://localhost:8080/"
        },
        "id": "_Bcyh8KUA7-H",
        "outputId": "5b5dbedd-08ef-4870-9f1c-5b5f2ee42b0c"
      },
      "source": [
        "#detecting and removing outliers for the columns 5 to 9  \n",
        "for col in df_covid_sorted.columns[5:10]:\n",
        "  Q1=df_covid_sorted[col].quantile(0.25)\n",
        "  Q3=df_covid_sorted[col].quantile(0.75)\n",
        "  IQR=Q3-Q1\n",
        "  df_final=df_covid_sorted[~((df_covid_sorted[col]<(Q1-1.5*IQR)) | (df_covid_sorted[col]>(Q3+1.5*IQR)))]\n",
        "  df_final\n",
        "print(df_final.shape) "
      ],
      "execution_count": null,
      "outputs": [
        {
          "output_type": "stream",
          "text": [
            "(1252, 17)\n"
          ],
          "name": "stdout"
        }
      ]
    },
    {
      "cell_type": "code",
      "metadata": {
        "colab": {
          "base_uri": "https://localhost:8080/"
        },
        "id": "6Xi08PaFhX2e",
        "outputId": "7cdcea46-993d-49fb-d74e-9d6fddf42274"
      },
      "source": [
        "print(df_covid_sorted.shape)"
      ],
      "execution_count": null,
      "outputs": [
        {
          "output_type": "stream",
          "text": [
            "(1380, 17)\n"
          ],
          "name": "stdout"
        }
      ]
    },
    {
      "cell_type": "code",
      "metadata": {
        "id": "2vC80YR2eQDe"
      },
      "source": [
        "df_final=df_final.drop(['State','Lat','Long_'],axis=1)"
      ],
      "execution_count": null,
      "outputs": []
    },
    {
      "cell_type": "code",
      "metadata": {
        "colab": {
          "base_uri": "https://localhost:8080/"
        },
        "id": "RpTeteOUA9X1",
        "outputId": "5bf7b77f-1042-4152-93b8-c1c31414d3bd"
      },
      "source": [
        "#Z score normalization\n",
        "df_z = df_final.copy()\n",
        "columns_to_scale = ['Active',\t'Incident_Rate',\t'Total_Test_Results',\t'Case_Fatality_Ratio',\t'Testing_Rate', 'Resident Population 2020 Census','Population Density 2020 Census',\t'Density Rank 2020 Census',\t'SexRatio']\n",
        "stds = StandardScaler()\n",
        "df_z[columns_to_scale] = stds.fit_transform(df_z[columns_to_scale])\n",
        "\n",
        "print(df_z)\n",
        "print(df_z.shape)"
      ],
      "execution_count": null,
      "outputs": [
        {
          "output_type": "stream",
          "text": [
            "      Day  State ID    Active  ...  Confirmed  Deaths  Recovered\n",
            "0       2         1 -0.224294  ...          1       0          0\n",
            "46      3         1 -0.219430  ...          1       1          0\n",
            "92      4         1 -0.215193  ...          1       1          0\n",
            "138     5         1 -0.204403  ...          1       1          0\n",
            "184     6         1 -0.214356  ...          1       1          1\n",
            "...   ...       ...       ...  ...        ...     ...        ...\n",
            "1195   27        51 -0.540736  ...          1       0          1\n",
            "1241   28        51 -0.541114  ...          1       0          1\n",
            "1287   29        51 -0.540982  ...          1       0          1\n",
            "1333   30        51 -0.541340  ...          1       0          1\n",
            "1379   31        51 -0.540974  ...          1       0          1\n",
            "\n",
            "[1252 rows x 14 columns]\n",
            "(1252, 14)\n"
          ],
          "name": "stdout"
        }
      ]
    },
    {
      "cell_type": "code",
      "metadata": {
        "colab": {
          "base_uri": "https://localhost:8080/"
        },
        "id": "r4eiXwOKwyNJ",
        "outputId": "a4e206d3-d2f1-45d8-b0d7-1f6464160a0e"
      },
      "source": [
        "df_z.info()"
      ],
      "execution_count": null,
      "outputs": [
        {
          "output_type": "stream",
          "text": [
            "<class 'pandas.core.frame.DataFrame'>\n",
            "Int64Index: 1252 entries, 0 to 1379\n",
            "Data columns (total 14 columns):\n",
            " #   Column                           Non-Null Count  Dtype  \n",
            "---  ------                           --------------  -----  \n",
            " 0   Day                              1252 non-null   int64  \n",
            " 1   State ID                         1252 non-null   int64  \n",
            " 2   Active                           1252 non-null   float64\n",
            " 3   Incident_Rate                    1252 non-null   float64\n",
            " 4   Total_Test_Results               1252 non-null   float64\n",
            " 5   Case_Fatality_Ratio              1252 non-null   float64\n",
            " 6   Testing_Rate                     1252 non-null   float64\n",
            " 7   Resident Population 2020 Census  1252 non-null   float64\n",
            " 8   Population Density 2020 Census   1252 non-null   float64\n",
            " 9   Density Rank 2020 Census         1252 non-null   float64\n",
            " 10  SexRatio                         1252 non-null   float64\n",
            " 11  Confirmed                        1252 non-null   int64  \n",
            " 12  Deaths                           1252 non-null   int64  \n",
            " 13  Recovered                        1252 non-null   int64  \n",
            "dtypes: float64(9), int64(5)\n",
            "memory usage: 146.7 KB\n"
          ],
          "name": "stdout"
        }
      ]
    },
    {
      "cell_type": "code",
      "metadata": {
        "id": "gftgruCb0jS8",
        "colab": {
          "base_uri": "https://localhost:8080/"
        },
        "outputId": "643c0d0b-b08c-4e38-ea5d-a1e62cf172c6"
      },
      "source": [
        "#Min max normalization\n",
        "\n",
        "df_mm = df_final.copy()\n",
        "\n",
        "\n",
        "#for column in columns_to_scale:\n",
        "df_mm[columns_to_scale] = (df_mm[columns_to_scale] - df_mm[columns_to_scale].min()) / (df_mm[columns_to_scale].max() - df_mm[columns_to_scale].min())    \n",
        "\n",
        "print(df_mm)\n",
        "print(df_mm.shape)"
      ],
      "execution_count": null,
      "outputs": [
        {
          "output_type": "stream",
          "text": [
            "      Day  State ID    Active  ...  Confirmed  Deaths  Recovered\n",
            "0       2         1  0.049159  ...          1       0          0\n",
            "46      3         1  0.049913  ...          1       1          0\n",
            "92      4         1  0.050570  ...          1       1          0\n",
            "138     5         1  0.052242  ...          1       1          0\n",
            "184     6         1  0.050700  ...          1       1          1\n",
            "...   ...       ...       ...  ...        ...     ...        ...\n",
            "1195   27        51  0.000102  ...          1       0          1\n",
            "1241   28        51  0.000044  ...          1       0          1\n",
            "1287   29        51  0.000064  ...          1       0          1\n",
            "1333   30        51  0.000009  ...          1       0          1\n",
            "1379   31        51  0.000066  ...          1       0          1\n",
            "\n",
            "[1252 rows x 14 columns]\n",
            "(1252, 14)\n"
          ],
          "name": "stdout"
        }
      ]
    },
    {
      "cell_type": "code",
      "metadata": {
        "colab": {
          "base_uri": "https://localhost:8080/",
          "height": 237
        },
        "id": "wegcDsFfby6a",
        "outputId": "2ba05b7a-78fb-4c94-cf80-b11107b68ba9"
      },
      "source": [
        "df_mm.head()"
      ],
      "execution_count": null,
      "outputs": [
        {
          "output_type": "execute_result",
          "data": {
            "text/html": [
              "<div>\n",
              "<style scoped>\n",
              "    .dataframe tbody tr th:only-of-type {\n",
              "        vertical-align: middle;\n",
              "    }\n",
              "\n",
              "    .dataframe tbody tr th {\n",
              "        vertical-align: top;\n",
              "    }\n",
              "\n",
              "    .dataframe thead th {\n",
              "        text-align: right;\n",
              "    }\n",
              "</style>\n",
              "<table border=\"1\" class=\"dataframe\">\n",
              "  <thead>\n",
              "    <tr style=\"text-align: right;\">\n",
              "      <th></th>\n",
              "      <th>Day</th>\n",
              "      <th>State ID</th>\n",
              "      <th>Active</th>\n",
              "      <th>Incident_Rate</th>\n",
              "      <th>Total_Test_Results</th>\n",
              "      <th>Case_Fatality_Ratio</th>\n",
              "      <th>Testing_Rate</th>\n",
              "      <th>Resident Population 2020 Census</th>\n",
              "      <th>Population Density 2020 Census</th>\n",
              "      <th>Density Rank 2020 Census</th>\n",
              "      <th>SexRatio</th>\n",
              "      <th>Confirmed</th>\n",
              "      <th>Deaths</th>\n",
              "      <th>Recovered</th>\n",
              "    </tr>\n",
              "  </thead>\n",
              "  <tbody>\n",
              "    <tr>\n",
              "      <th>0</th>\n",
              "      <td>2</td>\n",
              "      <td>1</td>\n",
              "      <td>0.049159</td>\n",
              "      <td>0.572770</td>\n",
              "      <td>0.036213</td>\n",
              "      <td>0.250000</td>\n",
              "      <td>0.062185</td>\n",
              "      <td>0.11415</td>\n",
              "      <td>0.008276</td>\n",
              "      <td>0.56</td>\n",
              "      <td>0.0</td>\n",
              "      <td>1</td>\n",
              "      <td>0</td>\n",
              "      <td>0</td>\n",
              "    </tr>\n",
              "    <tr>\n",
              "      <th>46</th>\n",
              "      <td>3</td>\n",
              "      <td>1</td>\n",
              "      <td>0.049913</td>\n",
              "      <td>0.577359</td>\n",
              "      <td>0.036419</td>\n",
              "      <td>0.247126</td>\n",
              "      <td>0.063540</td>\n",
              "      <td>0.11415</td>\n",
              "      <td>0.008276</td>\n",
              "      <td>0.56</td>\n",
              "      <td>0.0</td>\n",
              "      <td>1</td>\n",
              "      <td>1</td>\n",
              "      <td>0</td>\n",
              "    </tr>\n",
              "    <tr>\n",
              "      <th>92</th>\n",
              "      <td>4</td>\n",
              "      <td>1</td>\n",
              "      <td>0.050570</td>\n",
              "      <td>0.581364</td>\n",
              "      <td>0.036498</td>\n",
              "      <td>0.244253</td>\n",
              "      <td>0.064062</td>\n",
              "      <td>0.11415</td>\n",
              "      <td>0.008276</td>\n",
              "      <td>0.56</td>\n",
              "      <td>0.0</td>\n",
              "      <td>1</td>\n",
              "      <td>1</td>\n",
              "      <td>0</td>\n",
              "    </tr>\n",
              "    <tr>\n",
              "      <th>138</th>\n",
              "      <td>5</td>\n",
              "      <td>1</td>\n",
              "      <td>0.052242</td>\n",
              "      <td>0.591554</td>\n",
              "      <td>0.036677</td>\n",
              "      <td>0.241379</td>\n",
              "      <td>0.065243</td>\n",
              "      <td>0.11415</td>\n",
              "      <td>0.008276</td>\n",
              "      <td>0.56</td>\n",
              "      <td>0.0</td>\n",
              "      <td>1</td>\n",
              "      <td>1</td>\n",
              "      <td>0</td>\n",
              "    </tr>\n",
              "    <tr>\n",
              "      <th>184</th>\n",
              "      <td>6</td>\n",
              "      <td>1</td>\n",
              "      <td>0.050700</td>\n",
              "      <td>0.600063</td>\n",
              "      <td>0.036923</td>\n",
              "      <td>0.244253</td>\n",
              "      <td>0.066869</td>\n",
              "      <td>0.11415</td>\n",
              "      <td>0.008276</td>\n",
              "      <td>0.56</td>\n",
              "      <td>0.0</td>\n",
              "      <td>1</td>\n",
              "      <td>1</td>\n",
              "      <td>1</td>\n",
              "    </tr>\n",
              "  </tbody>\n",
              "</table>\n",
              "</div>"
            ],
            "text/plain": [
              "     Day  State ID    Active  ...  Confirmed  Deaths  Recovered\n",
              "0      2         1  0.049159  ...          1       0          0\n",
              "46     3         1  0.049913  ...          1       1          0\n",
              "92     4         1  0.050570  ...          1       1          0\n",
              "138    5         1  0.052242  ...          1       1          0\n",
              "184    6         1  0.050700  ...          1       1          1\n",
              "\n",
              "[5 rows x 14 columns]"
            ]
          },
          "metadata": {
            "tags": []
          },
          "execution_count": 21
        }
      ]
    },
    {
      "cell_type": "markdown",
      "metadata": {
        "id": "1VdMjFVYEGLQ"
      },
      "source": [
        "## **CM2**"
      ]
    },
    {
      "cell_type": "code",
      "metadata": {
        "id": "okLt5-CBENA4"
      },
      "source": [
        "from sklearn.decomposition import PCA\n",
        "pca_cov = PCA(n_components=5)\n",
        "principalComponents_cov = pca_cov.fit_transform(df_z)"
      ],
      "execution_count": null,
      "outputs": []
    },
    {
      "cell_type": "code",
      "metadata": {
        "colab": {
          "base_uri": "https://localhost:8080/",
          "height": 203
        },
        "id": "aIhycZlt3xfM",
        "outputId": "99d9e2cb-a79f-4f5d-e179-6c754d82a395"
      },
      "source": [
        "principal_cov = pd.DataFrame(data = principalComponents_cov\n",
        "             , columns = ['principal component 1', 'principal component 2', 'principal component 3', 'principal component 4', 'principal component 5'])\n",
        "principal_cov.tail()"
      ],
      "execution_count": null,
      "outputs": [
        {
          "output_type": "execute_result",
          "data": {
            "text/html": [
              "<div>\n",
              "<style scoped>\n",
              "    .dataframe tbody tr th:only-of-type {\n",
              "        vertical-align: middle;\n",
              "    }\n",
              "\n",
              "    .dataframe tbody tr th {\n",
              "        vertical-align: top;\n",
              "    }\n",
              "\n",
              "    .dataframe thead th {\n",
              "        text-align: right;\n",
              "    }\n",
              "</style>\n",
              "<table border=\"1\" class=\"dataframe\">\n",
              "  <thead>\n",
              "    <tr style=\"text-align: right;\">\n",
              "      <th></th>\n",
              "      <th>principal component 1</th>\n",
              "      <th>principal component 2</th>\n",
              "      <th>principal component 3</th>\n",
              "      <th>principal component 4</th>\n",
              "      <th>principal component 5</th>\n",
              "    </tr>\n",
              "  </thead>\n",
              "  <tbody>\n",
              "    <tr>\n",
              "      <th>1247</th>\n",
              "      <td>25.806829</td>\n",
              "      <td>10.535442</td>\n",
              "      <td>-1.613357</td>\n",
              "      <td>0.738861</td>\n",
              "      <td>1.922924</td>\n",
              "    </tr>\n",
              "    <tr>\n",
              "      <th>1248</th>\n",
              "      <td>25.810194</td>\n",
              "      <td>11.535968</td>\n",
              "      <td>-1.601379</td>\n",
              "      <td>0.716921</td>\n",
              "      <td>1.939658</td>\n",
              "    </tr>\n",
              "    <tr>\n",
              "      <th>1249</th>\n",
              "      <td>25.813696</td>\n",
              "      <td>12.537025</td>\n",
              "      <td>-1.595049</td>\n",
              "      <td>0.704152</td>\n",
              "      <td>1.962780</td>\n",
              "    </tr>\n",
              "    <tr>\n",
              "      <th>1250</th>\n",
              "      <td>25.816942</td>\n",
              "      <td>13.536579</td>\n",
              "      <td>-1.595930</td>\n",
              "      <td>0.696944</td>\n",
              "      <td>1.950044</td>\n",
              "    </tr>\n",
              "    <tr>\n",
              "      <th>1251</th>\n",
              "      <td>25.820157</td>\n",
              "      <td>14.536511</td>\n",
              "      <td>-1.598980</td>\n",
              "      <td>0.694887</td>\n",
              "      <td>1.938181</td>\n",
              "    </tr>\n",
              "  </tbody>\n",
              "</table>\n",
              "</div>"
            ],
            "text/plain": [
              "      principal component 1  ...  principal component 5\n",
              "1247              25.806829  ...               1.922924\n",
              "1248              25.810194  ...               1.939658\n",
              "1249              25.813696  ...               1.962780\n",
              "1250              25.816942  ...               1.950044\n",
              "1251              25.820157  ...               1.938181\n",
              "\n",
              "[5 rows x 5 columns]"
            ]
          },
          "metadata": {
            "tags": []
          },
          "execution_count": 63
        }
      ]
    },
    {
      "cell_type": "code",
      "metadata": {
        "colab": {
          "base_uri": "https://localhost:8080/"
        },
        "id": "Wg0_IGx63-RQ",
        "outputId": "cf382f05-c919-4b86-cfa3-d8bfd0ffaf20"
      },
      "source": [
        "pca_cov.explained_variance_ "
      ],
      "execution_count": null,
      "outputs": [
        {
          "output_type": "execute_result",
          "data": {
            "text/plain": [
              "array([210.58039159,  74.4272718 ,   3.26306123,   2.27431659,\n",
              "         0.98204884])"
            ]
          },
          "metadata": {
            "tags": []
          },
          "execution_count": 64
        }
      ]
    },
    {
      "cell_type": "code",
      "metadata": {
        "colab": {
          "base_uri": "https://localhost:8080/",
          "height": 296
        },
        "id": "mBYq2UmAMi-i",
        "outputId": "b3f513dc-3ea3-4346-efa4-a4cfaf98f4d7"
      },
      "source": [
        "plt.bar(range(1,len(pca_cov.explained_variance_ )+1),pca_cov.explained_variance_ )\n",
        "plt.ylabel('Explained variance')\n",
        "plt.xlabel('Components')\n",
        "plt.plot(range(1,len(pca_cov.explained_variance_ )+1),\n",
        "         np.cumsum(pca_cov.explained_variance_),\n",
        "         c='red',\n",
        "         label=\"Cumulative Explained Variance\")\n",
        "plt.legend(loc='upper left')"
      ],
      "execution_count": null,
      "outputs": [
        {
          "output_type": "execute_result",
          "data": {
            "text/plain": [
              "<matplotlib.legend.Legend at 0x7f8217972410>"
            ]
          },
          "metadata": {
            "tags": []
          },
          "execution_count": 65
        },
        {
          "output_type": "display_data",
          "data": {
            "image/png": "[encoded data removed]",
            "text/plain": [
              "<Figure size 432x288 with 1 Axes>"
            ]
          },
          "metadata": {
            "tags": [],
            "needs_background": "light"
          }
        }
      ]
    },
    {
      "cell_type": "code",
      "metadata": {
        "colab": {
          "base_uri": "https://localhost:8080/",
          "height": 279
        },
        "id": "URbzBkCDNCVv",
        "outputId": "e6cdcf01-3c22-4a41-9971-c81d4d541887"
      },
      "source": [
        "#scree plot for pca components. For our case, PCA-2 explains most of the variance than subsequent components\n",
        "plt.plot(pca_cov.explained_variance_)\n",
        "plt.xlabel('number of components')\n",
        "plt.ylabel('cumulative explained variance')\n",
        "plt.show()"
      ],
      "execution_count": null,
      "outputs": [
        {
          "output_type": "display_data",
          "data": {
            "image/png": "[encoded data removed]",
            "text/plain": [
              "<Figure size 432x288 with 1 Axes>"
            ]
          },
          "metadata": {
            "tags": [],
            "needs_background": "light"
          }
        }
      ]
    },
    {
      "cell_type": "code",
      "metadata": {
        "id": "F5O-rADtNh0D"
      },
      "source": [
        ""
      ],
      "execution_count": null,
      "outputs": []
    },
    {
      "cell_type": "markdown",
      "metadata": {
        "id": "MLYG2NEqe-IM"
      },
      "source": [
        "### **CM3**"
      ]
    },
    {
      "cell_type": "code",
      "metadata": {
        "colab": {
          "base_uri": "https://localhost:8080/",
          "height": 237
        },
        "id": "nOWan7rNfBNl",
        "outputId": "46417a9f-e431-40cd-b734-8955b6ef5219"
      },
      "source": [
        "df_z.head()"
      ],
      "execution_count": null,
      "outputs": [
        {
          "output_type": "execute_result",
          "data": {
            "text/html": [
              "<div>\n",
              "<style scoped>\n",
              "    .dataframe tbody tr th:only-of-type {\n",
              "        vertical-align: middle;\n",
              "    }\n",
              "\n",
              "    .dataframe tbody tr th {\n",
              "        vertical-align: top;\n",
              "    }\n",
              "\n",
              "    .dataframe thead th {\n",
              "        text-align: right;\n",
              "    }\n",
              "</style>\n",
              "<table border=\"1\" class=\"dataframe\">\n",
              "  <thead>\n",
              "    <tr style=\"text-align: right;\">\n",
              "      <th></th>\n",
              "      <th>Day</th>\n",
              "      <th>State ID</th>\n",
              "      <th>Active</th>\n",
              "      <th>Incident_Rate</th>\n",
              "      <th>Total_Test_Results</th>\n",
              "      <th>Case_Fatality_Ratio</th>\n",
              "      <th>Testing_Rate</th>\n",
              "      <th>Resident Population 2020 Census</th>\n",
              "      <th>Population Density 2020 Census</th>\n",
              "      <th>Density Rank 2020 Census</th>\n",
              "      <th>SexRatio</th>\n",
              "      <th>Confirmed</th>\n",
              "      <th>Deaths</th>\n",
              "      <th>Recovered</th>\n",
              "    </tr>\n",
              "  </thead>\n",
              "  <tbody>\n",
              "    <tr>\n",
              "      <th>0</th>\n",
              "      <td>2</td>\n",
              "      <td>1</td>\n",
              "      <td>-0.224294</td>\n",
              "      <td>0.227387</td>\n",
              "      <td>-0.481491</td>\n",
              "      <td>-0.478065</td>\n",
              "      <td>-1.549993</td>\n",
              "      <td>-0.168037</td>\n",
              "      <td>-0.204933</td>\n",
              "      <td>0.118976</td>\n",
              "      <td>-1.374063</td>\n",
              "      <td>1</td>\n",
              "      <td>0</td>\n",
              "      <td>0</td>\n",
              "    </tr>\n",
              "    <tr>\n",
              "      <th>46</th>\n",
              "      <td>3</td>\n",
              "      <td>1</td>\n",
              "      <td>-0.219430</td>\n",
              "      <td>0.250101</td>\n",
              "      <td>-0.480268</td>\n",
              "      <td>-0.494182</td>\n",
              "      <td>-1.543741</td>\n",
              "      <td>-0.168037</td>\n",
              "      <td>-0.204933</td>\n",
              "      <td>0.118976</td>\n",
              "      <td>-1.374063</td>\n",
              "      <td>1</td>\n",
              "      <td>1</td>\n",
              "      <td>0</td>\n",
              "    </tr>\n",
              "    <tr>\n",
              "      <th>92</th>\n",
              "      <td>4</td>\n",
              "      <td>1</td>\n",
              "      <td>-0.215193</td>\n",
              "      <td>0.269923</td>\n",
              "      <td>-0.479796</td>\n",
              "      <td>-0.510299</td>\n",
              "      <td>-1.541330</td>\n",
              "      <td>-0.168037</td>\n",
              "      <td>-0.204933</td>\n",
              "      <td>0.118976</td>\n",
              "      <td>-1.374063</td>\n",
              "      <td>1</td>\n",
              "      <td>1</td>\n",
              "      <td>0</td>\n",
              "    </tr>\n",
              "    <tr>\n",
              "      <th>138</th>\n",
              "      <td>5</td>\n",
              "      <td>1</td>\n",
              "      <td>-0.204403</td>\n",
              "      <td>0.320357</td>\n",
              "      <td>-0.478730</td>\n",
              "      <td>-0.526416</td>\n",
              "      <td>-1.535884</td>\n",
              "      <td>-0.168037</td>\n",
              "      <td>-0.204933</td>\n",
              "      <td>0.118976</td>\n",
              "      <td>-1.374063</td>\n",
              "      <td>1</td>\n",
              "      <td>1</td>\n",
              "      <td>0</td>\n",
              "    </tr>\n",
              "    <tr>\n",
              "      <th>184</th>\n",
              "      <td>6</td>\n",
              "      <td>1</td>\n",
              "      <td>-0.214356</td>\n",
              "      <td>0.362474</td>\n",
              "      <td>-0.477261</td>\n",
              "      <td>-0.510299</td>\n",
              "      <td>-1.528377</td>\n",
              "      <td>-0.168037</td>\n",
              "      <td>-0.204933</td>\n",
              "      <td>0.118976</td>\n",
              "      <td>-1.374063</td>\n",
              "      <td>1</td>\n",
              "      <td>1</td>\n",
              "      <td>1</td>\n",
              "    </tr>\n",
              "  </tbody>\n",
              "</table>\n",
              "</div>"
            ],
            "text/plain": [
              "     Day  State ID    Active  ...  Confirmed  Deaths  Recovered\n",
              "0      2         1 -0.224294  ...          1       0          0\n",
              "46     3         1 -0.219430  ...          1       1          0\n",
              "92     4         1 -0.215193  ...          1       1          0\n",
              "138    5         1 -0.204403  ...          1       1          0\n",
              "184    6         1 -0.214356  ...          1       1          1\n",
              "\n",
              "[5 rows x 14 columns]"
            ]
          },
          "metadata": {
            "tags": []
          },
          "execution_count": 67
        }
      ]
    },
    {
      "cell_type": "code",
      "metadata": {
        "id": "zCk5zKlj0DfV"
      },
      "source": [
        "x = df_z.drop(['Confirmed','Deaths','Recovered'], axis=1)\n",
        "#y = df_z['Recovered']\n",
        "y = df_z['Deaths']\n",
        "#y = df_z['Confirmed']"
      ],
      "execution_count": null,
      "outputs": []
    },
    {
      "cell_type": "code",
      "metadata": {
        "id": "OnB6OsPB1htP"
      },
      "source": [
        "x_train, x_test, y_train, y_test = train_test_split(x, y, test_size = 0.20, random_state = 98)"
      ],
      "execution_count": null,
      "outputs": []
    },
    {
      "cell_type": "code",
      "metadata": {
        "colab": {
          "base_uri": "https://localhost:8080/",
          "height": 356
        },
        "id": "rlVrvbQX2DuA",
        "outputId": "74e1d778-0655-458e-9aac-c7e956c3acf8"
      },
      "source": [
        "# defining a function for performing K-fold cross validation\n",
        "def running_cross_validation(x, y, tree_depths, cv=5, scoring='accuracy'):\n",
        "    cv_scores_list = []\n",
        "    cv_scores_std = []\n",
        "    cv_scores_mean = []\n",
        "    accuracy_scores = []\n",
        "    for depth in tree_depths:\n",
        "        #tree_model = DecisionTreeClassifier(max_depth=depth,criterion=\"gini\")\n",
        "        tree_model = DecisionTreeClassifier(max_depth=depth,splitter = 'best',criterion=\"entropy\")\n",
        "        cv_scores = cross_val_score(tree_model, x, y, cv=cv, scoring=scoring)\n",
        "        cv_scores_list.append(cv_scores)\n",
        "        cv_scores_mean.append(cv_scores.mean())\n",
        "        cv_scores_std.append(cv_scores.std())\n",
        "        accuracy_scores.append(tree_model.fit(x, y).score(x, y))\n",
        "    cv_scores_mean = np.array(cv_scores_mean)\n",
        "    cv_scores_std = np.array(cv_scores_std)\n",
        "    accuracy_scores = np.array(accuracy_scores)\n",
        "    return cv_scores_mean, cv_scores_std, accuracy_scores\n",
        "  \n",
        "# defining a function for plotting cross-validation results\n",
        "def plot_on_tree_depths(depths, cv_scores_mean, cv_scores_std, accuracy_scores, title):\n",
        "    fig, ax = plt.subplots(1,1, figsize=(15,5))\n",
        "    ax.plot(depths, cv_scores_mean, '-o', label='mean cross-validation accuracy', alpha=0.9)\n",
        "    ax.fill_between(depths, cv_scores_mean-2*cv_scores_std, cv_scores_mean+2*cv_scores_std, alpha=0.2)\n",
        "    ylim = plt.ylim()\n",
        "    ax.plot(depths, accuracy_scores, '-*', label='train accuracy', alpha=0.9)\n",
        "    ax.set_title(title, fontsize=16)\n",
        "    ax.set_xlabel('Tree depth', fontsize=14)\n",
        "    ax.set_ylabel('Accuracy', fontsize=14)\n",
        "    ax.set_ylim(ylim)\n",
        "    ax.set_xticks(depths)\n",
        "    ax.legend()\n",
        "\n",
        "# fitting trees of depth 3,5,10\n",
        "input_tree_depths = [3,5,10]\n",
        "final_cv_scores_mean, final_cv_scores_std, final_accuracy_scores = running_cross_validation(x_train, y_train, input_tree_depths)\n",
        "\n",
        "# plotting mean accuracy vs maximum depth\n",
        "plot_on_tree_depths(input_tree_depths, final_cv_scores_mean, final_cv_scores_std, final_accuracy_scores, \n",
        "                               'Accuracy per decision tree depth on training data for \"Confirmed\"')"
      ],
      "execution_count": null,
      "outputs": [
        {
          "output_type": "display_data",
          "data": {
            "image/png": "[encoded data removed]",
            "text/plain": [
              "<Figure size 1080x360 with 1 Axes>"
            ]
          },
          "metadata": {
            "tags": [],
            "needs_background": "light"
          }
        }
      ]
    },
    {
      "cell_type": "code",
      "metadata": {
        "colab": {
          "base_uri": "https://localhost:8080/"
        },
        "id": "HUKUJh4S3DGt",
        "outputId": "a8f9d142-6050-4113-8915-68a3bfac0bbc"
      },
      "source": [
        "# calculating the best tree depth with the best mean accuracy\n",
        "idx_max = final_cv_scores_mean.argmax()\n",
        "best_input_tree_depths = input_tree_depths[idx_max]\n",
        "best_cv_score = final_cv_scores_mean[idx_max]\n",
        "best_cv_score_std = final_cv_scores_std[idx_max]\n",
        "print('The depth-{} tree achieves the best mean cross-validation accuracy {} +/- {}% on training dataset'.format(\n",
        "      best_input_tree_depths, round(best_cv_score*100,5), round(best_cv_score_std*100, 5)))\n"
      ],
      "execution_count": null,
      "outputs": [
        {
          "output_type": "stream",
          "text": [
            "The depth-3 tree achieves the best mean cross-validation accuracy 91.40796 +/- 0.49981% on training dataset\n"
          ],
          "name": "stdout"
        }
      ]
    },
    {
      "cell_type": "code",
      "metadata": {
        "colab": {
          "base_uri": "https://localhost:8080/"
        },
        "id": "6sew_g5P3jco",
        "outputId": "90d3d1c2-73fe-42ac-cfce-cb7a4e747b6f"
      },
      "source": [
        "# defining a function for training and evaluating a tree\n",
        "def run_decision_tree(x_train, y_train, x_test, y_test, depth):\n",
        "    model = DecisionTreeClassifier(max_depth=depth).fit(x_train, y_train)\n",
        "    accuracy_train = model.score(x_train, y_train)\n",
        "    accuracy_test = model.score(x_test, y_test)\n",
        "    print('Single tree depth: ', depth)\n",
        "    print('Accuracy, Training Set: ', round(accuracy_train*100,5), '%')\n",
        "    print('Accuracy, Test Set: ', round(accuracy_test*100,5), '%')\n",
        "    return accuracy_train, accuracy_test\n",
        "  \n",
        "\n",
        "# train and evaluate a 10-depth tree\n",
        "best_accuracy_train, best_accuracy_test = run_decision_tree(x_train, y_train, \n",
        "                                                                          x_test, y_test, \n",
        "                                                                          best_input_tree_depths)\n"
      ],
      "execution_count": null,
      "outputs": [
        {
          "output_type": "stream",
          "text": [
            "Single tree depth:  3\n",
            "Accuracy, Training Set:  92.70729 %\n",
            "Accuracy, Test Set:  93.6255 %\n"
          ],
          "name": "stdout"
        }
      ]
    },
    {
      "cell_type": "markdown",
      "metadata": {
        "id": "lmHlFZrgJ_QZ"
      },
      "source": [
        "### **CM4**"
      ]
    },
    {
      "cell_type": "code",
      "metadata": {
        "id": "OfMz5rZSKC6E"
      },
      "source": [
        "x = df_z.drop(['Confirmed','Deaths','Recovered'], axis=1)\n",
        "y = df_z['Recovered']\n",
        "#y = df_z['Deaths']\n",
        "#y = df_z['Confirmed']"
      ],
      "execution_count": null,
      "outputs": []
    },
    {
      "cell_type": "code",
      "metadata": {
        "id": "hD4dKJK6Nsev"
      },
      "source": [
        "x_train, x_test, y_train, y_test = train_test_split(x, y, test_size = 0.20, random_state = 98)"
      ],
      "execution_count": null,
      "outputs": []
    },
    {
      "cell_type": "code",
      "metadata": {
        "colab": {
          "base_uri": "https://localhost:8080/"
        },
        "id": "C7B2BNvTNvXZ",
        "outputId": "6429aadc-35e2-4c41-af5c-b7a38840ca3a"
      },
      "source": [
        "from sklearn.model_selection import GridSearchCV\n",
        "from sklearn.ensemble import RandomForestClassifier\n",
        "tuned_param={'max_depth': [3,5,10,None],'n_estimators': [5,10,50,150,200]}\n",
        "model=GridSearchCV(RandomForestClassifier(n_jobs=-1),param_grid=tuned_param,cv=3,return_train_score=True)\n",
        "model.fit(x_train, y_train)\n"
      ],
      "execution_count": null,
      "outputs": [
        {
          "output_type": "execute_result",
          "data": {
            "text/plain": [
              "GridSearchCV(cv=3, error_score=nan,\n",
              "             estimator=RandomForestClassifier(bootstrap=True, ccp_alpha=0.0,\n",
              "                                              class_weight=None,\n",
              "                                              criterion='gini', max_depth=None,\n",
              "                                              max_features='auto',\n",
              "                                              max_leaf_nodes=None,\n",
              "                                              max_samples=None,\n",
              "                                              min_impurity_decrease=0.0,\n",
              "                                              min_impurity_split=None,\n",
              "                                              min_samples_leaf=1,\n",
              "                                              min_samples_split=2,\n",
              "                                              min_weight_fraction_leaf=0.0,\n",
              "                                              n_estimators=100, n_jobs=-1,\n",
              "                                              oob_score=False,\n",
              "                                              random_state=None, verbose=0,\n",
              "                                              warm_start=False),\n",
              "             iid='deprecated', n_jobs=None,\n",
              "             param_grid={'max_depth': [3, 5, 10, None],\n",
              "                         'n_estimators': [5, 10, 50, 150, 200]},\n",
              "             pre_dispatch='2*n_jobs', refit=True, return_train_score=True,\n",
              "             scoring=None, verbose=0)"
            ]
          },
          "metadata": {
            "tags": []
          },
          "execution_count": 35
        }
      ]
    },
    {
      "cell_type": "code",
      "metadata": {
        "colab": {
          "base_uri": "https://localhost:8080/"
        },
        "id": "Jvzc4XWtTK-9",
        "outputId": "474c427a-8cdd-4d37-d764-468bb04faadb"
      },
      "source": [
        "print(\"Best hyper paramters:\",model.best_params_)\n",
        "print(\"Best accuracy value: \",model.best_score_ )\n"
      ],
      "execution_count": null,
      "outputs": [
        {
          "output_type": "stream",
          "text": [
            "Best hyper paramters: {'max_depth': 5, 'n_estimators': 10}\n",
            "Best accuracy value:  0.9420258581935229\n"
          ],
          "name": "stdout"
        }
      ]
    },
    {
      "cell_type": "code",
      "metadata": {
        "colab": {
          "base_uri": "https://localhost:8080/",
          "height": 514
        },
        "id": "rgi-xmYXTOSC",
        "outputId": "7325b968-2666-4dee-db2f-ae3d6ef5b78c"
      },
      "source": [
        "plot_df=pd.DataFrame(model.cv_results_['params'])\n",
        "#Creating a data frame with hyperparameters and accuracy\n",
        "plot_df[\"accuracy\"]=model.cv_results_['mean_test_score']\n",
        " \n",
        "#Pivoting the dataframe for plotting heat map\n",
        "plot_df=plot_df.pivot(index='max_depth',columns='n_estimators',values='accuracy')\n",
        "#Plotting the graph\n",
        "plt.figure(figsize=(15,8))\n",
        "sns.heatmap(data=plot_df,annot=True)\n",
        "plt.title(\"Accuracy plot for Train data - Recovered\")\n",
        "plt.show()"
      ],
      "execution_count": null,
      "outputs": [
        {
          "output_type": "display_data",
          "data": {
            "image/png": "[encoded data removed]",
            "text/plain": [
              "<Figure size 1080x576 with 2 Axes>"
            ]
          },
          "metadata": {
            "tags": [],
            "needs_background": "light"
          }
        }
      ]
    },
    {
      "cell_type": "code",
      "metadata": {
        "id": "PFL7lsYyx1U5"
      },
      "source": [
        ""
      ],
      "execution_count": null,
      "outputs": []
    },
    {
      "cell_type": "markdown",
      "metadata": {
        "id": "AVwsXgvZx2Nu"
      },
      "source": [
        "### **CM5**"
      ]
    },
    {
      "cell_type": "code",
      "metadata": {
        "colab": {
          "base_uri": "https://localhost:8080/",
          "height": 237
        },
        "id": "1DznvRPhx4sr",
        "outputId": "37ccd0ab-4307-471b-8542-7e6754a7364d"
      },
      "source": [
        "df_z.head()"
      ],
      "execution_count": null,
      "outputs": [
        {
          "output_type": "execute_result",
          "data": {
            "text/html": [
              "<div>\n",
              "<style scoped>\n",
              "    .dataframe tbody tr th:only-of-type {\n",
              "        vertical-align: middle;\n",
              "    }\n",
              "\n",
              "    .dataframe tbody tr th {\n",
              "        vertical-align: top;\n",
              "    }\n",
              "\n",
              "    .dataframe thead th {\n",
              "        text-align: right;\n",
              "    }\n",
              "</style>\n",
              "<table border=\"1\" class=\"dataframe\">\n",
              "  <thead>\n",
              "    <tr style=\"text-align: right;\">\n",
              "      <th></th>\n",
              "      <th>Day</th>\n",
              "      <th>State ID</th>\n",
              "      <th>Active</th>\n",
              "      <th>Incident_Rate</th>\n",
              "      <th>Total_Test_Results</th>\n",
              "      <th>Case_Fatality_Ratio</th>\n",
              "      <th>Testing_Rate</th>\n",
              "      <th>Resident Population 2020 Census</th>\n",
              "      <th>Population Density 2020 Census</th>\n",
              "      <th>Density Rank 2020 Census</th>\n",
              "      <th>SexRatio</th>\n",
              "      <th>Confirmed</th>\n",
              "      <th>Deaths</th>\n",
              "      <th>Recovered</th>\n",
              "    </tr>\n",
              "  </thead>\n",
              "  <tbody>\n",
              "    <tr>\n",
              "      <th>0</th>\n",
              "      <td>2</td>\n",
              "      <td>1</td>\n",
              "      <td>-0.224294</td>\n",
              "      <td>0.227387</td>\n",
              "      <td>-0.481491</td>\n",
              "      <td>-0.478065</td>\n",
              "      <td>-1.549993</td>\n",
              "      <td>-0.168037</td>\n",
              "      <td>-0.204933</td>\n",
              "      <td>0.118976</td>\n",
              "      <td>-1.374063</td>\n",
              "      <td>1</td>\n",
              "      <td>0</td>\n",
              "      <td>0</td>\n",
              "    </tr>\n",
              "    <tr>\n",
              "      <th>46</th>\n",
              "      <td>3</td>\n",
              "      <td>1</td>\n",
              "      <td>-0.219430</td>\n",
              "      <td>0.250101</td>\n",
              "      <td>-0.480268</td>\n",
              "      <td>-0.494182</td>\n",
              "      <td>-1.543741</td>\n",
              "      <td>-0.168037</td>\n",
              "      <td>-0.204933</td>\n",
              "      <td>0.118976</td>\n",
              "      <td>-1.374063</td>\n",
              "      <td>1</td>\n",
              "      <td>1</td>\n",
              "      <td>0</td>\n",
              "    </tr>\n",
              "    <tr>\n",
              "      <th>92</th>\n",
              "      <td>4</td>\n",
              "      <td>1</td>\n",
              "      <td>-0.215193</td>\n",
              "      <td>0.269923</td>\n",
              "      <td>-0.479796</td>\n",
              "      <td>-0.510299</td>\n",
              "      <td>-1.541330</td>\n",
              "      <td>-0.168037</td>\n",
              "      <td>-0.204933</td>\n",
              "      <td>0.118976</td>\n",
              "      <td>-1.374063</td>\n",
              "      <td>1</td>\n",
              "      <td>1</td>\n",
              "      <td>0</td>\n",
              "    </tr>\n",
              "    <tr>\n",
              "      <th>138</th>\n",
              "      <td>5</td>\n",
              "      <td>1</td>\n",
              "      <td>-0.204403</td>\n",
              "      <td>0.320357</td>\n",
              "      <td>-0.478730</td>\n",
              "      <td>-0.526416</td>\n",
              "      <td>-1.535884</td>\n",
              "      <td>-0.168037</td>\n",
              "      <td>-0.204933</td>\n",
              "      <td>0.118976</td>\n",
              "      <td>-1.374063</td>\n",
              "      <td>1</td>\n",
              "      <td>1</td>\n",
              "      <td>0</td>\n",
              "    </tr>\n",
              "    <tr>\n",
              "      <th>184</th>\n",
              "      <td>6</td>\n",
              "      <td>1</td>\n",
              "      <td>-0.214356</td>\n",
              "      <td>0.362474</td>\n",
              "      <td>-0.477261</td>\n",
              "      <td>-0.510299</td>\n",
              "      <td>-1.528377</td>\n",
              "      <td>-0.168037</td>\n",
              "      <td>-0.204933</td>\n",
              "      <td>0.118976</td>\n",
              "      <td>-1.374063</td>\n",
              "      <td>1</td>\n",
              "      <td>1</td>\n",
              "      <td>1</td>\n",
              "    </tr>\n",
              "  </tbody>\n",
              "</table>\n",
              "</div>"
            ],
            "text/plain": [
              "     Day  State ID    Active  ...  Confirmed  Deaths  Recovered\n",
              "0      2         1 -0.224294  ...          1       0          0\n",
              "46     3         1 -0.219430  ...          1       1          0\n",
              "92     4         1 -0.215193  ...          1       1          0\n",
              "138    5         1 -0.204403  ...          1       1          0\n",
              "184    6         1 -0.214356  ...          1       1          1\n",
              "\n",
              "[5 rows x 14 columns]"
            ]
          },
          "metadata": {
            "tags": []
          },
          "execution_count": 38
        }
      ]
    },
    {
      "cell_type": "code",
      "metadata": {
        "id": "y1iXXkZQy3Qi"
      },
      "source": [
        "x = df_z.drop(['Confirmed','Deaths','Recovered'], axis=1)\n",
        "y = df_z['Recovered']\n",
        "#y = df_z['Deaths']\n",
        "#y = df_z['Confirmed']"
      ],
      "execution_count": null,
      "outputs": []
    },
    {
      "cell_type": "code",
      "metadata": {
        "id": "HnfM3wmhy9Tg"
      },
      "source": [
        "x_train, x_test, y_train, y_test = train_test_split(x, y, test_size = 0.20, random_state = 98)"
      ],
      "execution_count": null,
      "outputs": []
    },
    {
      "cell_type": "code",
      "metadata": {
        "colab": {
          "base_uri": "https://localhost:8080/",
          "height": 356
        },
        "id": "0Hr5OLOnzA1B",
        "outputId": "1ee6350c-5c13-4b0f-8f62-b3471fdeb76f"
      },
      "source": [
        "from sklearn.ensemble import GradientBoostingClassifier\n",
        "\n",
        "def run_cross_validation(x, y, n_estimators, cv=5, scoring='accuracy'):\n",
        "    scores_list = []\n",
        "    scores_std = []\n",
        "    scores_mean = []\n",
        "    accuracy_scores = []\n",
        "    for estimators in n_estimators:\n",
        "        model = GradientBoostingClassifier(n_estimators = estimators)\n",
        "        scores = cross_val_score(model, x, y, cv=cv, scoring=scoring)\n",
        "        scores_list.append(scores)\n",
        "        scores_mean.append(scores.mean())\n",
        "        scores_std.append(scores.std())\n",
        "        accuracy_scores.append(model.fit(x, y).score(x, y))\n",
        "    scores_mean = np.array(scores_mean)\n",
        "    scores_std = np.array(scores_std)\n",
        "    accuracy_scores = np.array(accuracy_scores)\n",
        "    return scores_mean, scores_std, accuracy_scores\n",
        "  \n",
        "# function for plotting cross-validation results\n",
        "def plot_graph(estimators, scores_mean, scores_std, accuracy_scores, title):\n",
        "    fig, ax = plt.subplots(1,1, figsize=(15,5))\n",
        "    ax.plot(estimators, scores_mean, '-o', label='mean cross-validation accuracy', alpha=0.9)\n",
        "    ax.fill_between(estimators, scores_mean-2*scores_std, scores_mean+2*scores_std, alpha=0.2)\n",
        "    ylim = plt.ylim()\n",
        "    ax.plot(estimators, accuracy_scores, '-*', label='train accuracy', alpha=0.9)\n",
        "    ax.set_title(title, fontsize=16)\n",
        "    ax.set_xlabel('No. of Estimators', fontsize=14)\n",
        "    ax.set_ylabel('Accuracy', fontsize=14)\n",
        "    ax.set_ylim(ylim)\n",
        "    ax.set_xticks(estimators)\n",
        "    ax.legend()\n",
        "\n",
        "# giving input estimators\n",
        "input_estimators = [5,10,50,150,200]\n",
        "final_scores_mean, final_scores_std, final_accuracy_scores = run_cross_validation(x_train, y_train, input_estimators)\n",
        "\n",
        "# plotting accuracy\n",
        "plot_graph(input_estimators, final_scores_mean, final_scores_std, final_accuracy_scores, \n",
        "                               'Accuracy per estimator on training data - Recovered')"
      ],
      "execution_count": null,
      "outputs": [
        {
          "output_type": "display_data",
          "data": {
            "image/png": "[encoded data removed]",
            "text/plain": [
              "<Figure size 1080x360 with 1 Axes>"
            ]
          },
          "metadata": {
            "tags": [],
            "needs_background": "light"
          }
        }
      ]
    },
    {
      "cell_type": "code",
      "metadata": {
        "colab": {
          "base_uri": "https://localhost:8080/"
        },
        "id": "-3wGDveX3nAg",
        "outputId": "e6732e67-c4e5-41c8-fdcc-6bf7f487693b"
      },
      "source": [
        "idx_max = final_scores_mean.argmax()\n",
        "best_estimator = input_estimators[idx_max]\n",
        "best_score = final_scores_mean[idx_max]\n",
        "best_score_std = final_scores_std[idx_max]\n",
        "print('Total of {} estimators achieve the best mean cross-validation accuracy {} +/- {}% on training dataset'.format(\n",
        "      best_estimator, round(best_score*100,5), round(best_score_std*100, 5)))"
      ],
      "execution_count": null,
      "outputs": [
        {
          "output_type": "stream",
          "text": [
            "Total of 50 estimators achieve the best mean cross-validation accuracy 93.70597 +/- 2.22794% on training dataset\n"
          ],
          "name": "stdout"
        }
      ]
    },
    {
      "cell_type": "code",
      "metadata": {
        "colab": {
          "base_uri": "https://localhost:8080/"
        },
        "id": "DfxegX6F33X1",
        "outputId": "24ab9ce1-e1cc-4738-b685-4270542fd147"
      },
      "source": [
        "# function for training and evaluating a tree\n",
        "def run_model(x_train, y_train, x_test, y_test, estimators):\n",
        "    model = GradientBoostingClassifier(n_estimators=estimators).fit(x_train, y_train)\n",
        "    accuracy_train = model.score(x_train, y_train)\n",
        "    accuracy_test = model.score(x_test, y_test)\n",
        "    print('Estimators: ', estimators)\n",
        "    print('Accuracy, Training Set: ', round(accuracy_train*100,5), '%')\n",
        "    print('Accuracy, Test Set: ', round(accuracy_test*100,5), '%')\n",
        "    return accuracy_train, accuracy_test\n",
        "  \n",
        "\n",
        "# train and evaluate a 3-depth tree\n",
        "best_accuracy_train, best_accuracy_test = run_model(x_train, y_train, x_test, y_test,best_estimator)\n"
      ],
      "execution_count": null,
      "outputs": [
        {
          "output_type": "stream",
          "text": [
            "Estimators:  50\n",
            "Accuracy, Training Set:  95.1049 %\n",
            "Accuracy, Test Set:  94.42231 %\n"
          ],
          "name": "stdout"
        }
      ]
    },
    {
      "cell_type": "markdown",
      "metadata": {
        "id": "mbHuLdYTl0NJ"
      },
      "source": [
        "### **CM6**"
      ]
    },
    {
      "cell_type": "code",
      "metadata": {
        "id": "B0jDJqD0l38K"
      },
      "source": [
        "x = df_z.drop(['Confirmed','Deaths','Recovered'], axis=1)\n",
        "#y = df_z['Recovered']\n",
        "#y = df_z['Deaths']\n",
        "y = df_z['Confirmed']"
      ],
      "execution_count": null,
      "outputs": []
    },
    {
      "cell_type": "code",
      "metadata": {
        "id": "0A_Iawa8yf0d"
      },
      "source": [
        "x_train, x_test, y_train, y_test = train_test_split(x, y, test_size = 0.20, random_state = 98)"
      ],
      "execution_count": null,
      "outputs": []
    },
    {
      "cell_type": "code",
      "metadata": {
        "colab": {
          "base_uri": "https://localhost:8080/"
        },
        "id": "M4bded0NqoSQ",
        "outputId": "16c1e34a-c04e-4d64-fe9a-e29c043f0820"
      },
      "source": [
        "from sklearn.naive_bayes import GaussianNB\n",
        "\n",
        "#hyperparameters to be tuned.\n",
        "var_smoothing_list = [1e-10, 1e-9, 1e-5, 1e-3, 1e-1]\n",
        "\n",
        "accuracy = []\n",
        "\n",
        "gnb_recovered1 = GaussianNB()\n",
        "\n",
        "# define grid search\n",
        "grid = dict(var_smoothing = var_smoothing_list)\n",
        "#using cv = 10 for 10-fold cross validation as mentioned in the instructions. \n",
        "grid_search3 = GridSearchCV(estimator = gnb_recovered1, param_grid = grid, n_jobs = -1, cv = 10, scoring = 'accuracy',error_score = 0)\n",
        "grid_result3 = grid_search3.fit(x_train, y_train)\n",
        "\n",
        "# summarize results\n",
        "print(\"Best: {0} using {1}\".format(grid_result3.best_score_, grid_result3.best_params_))\n",
        "acc = grid_result3.cv_results_['mean_test_score']\n",
        "params = grid_result3.cv_results_['params']\n",
        "for mean, param in zip(acc,  params):\n",
        "    print(\"{0} with: {1}\".format(mean, param))"
      ],
      "execution_count": null,
      "outputs": [
        {
          "output_type": "stream",
          "text": [
            "Best: 0.7112772277227722 using {'var_smoothing': 0.1}\n",
            "0.6763564356435643 with: {'var_smoothing': 1e-10}\n",
            "0.6763564356435643 with: {'var_smoothing': 1e-09}\n",
            "0.6773465346534653 with: {'var_smoothing': 1e-05}\n",
            "0.6993168316831684 with: {'var_smoothing': 0.001}\n",
            "0.7112772277227722 with: {'var_smoothing': 0.1}\n"
          ],
          "name": "stdout"
        }
      ]
    }
  ]
}